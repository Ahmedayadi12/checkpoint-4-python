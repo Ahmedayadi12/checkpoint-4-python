{
 "cells": [
  {
   "cell_type": "code",
   "execution_count": 1,
   "id": "75b5ac49",
   "metadata": {},
   "outputs": [
    {
     "name": "stdout",
     "output_type": "stream",
     "text": [
      "[[1 2 3]\n",
      " [4 5 6]]\n",
      "[[1, 2, 3], [4, 5, 6]]\n"
     ]
    }
   ],
   "source": [
    "#1\n",
    "import numpy as np\n",
    "\n",
    "myArray = np.array([[1, 2, 3], [4, 5, 6]])\n",
    "myList = myArray.tolist()\n",
    "print(myArray)\n",
    "print(myList)"
   ]
  },
  {
   "cell_type": "code",
   "execution_count": 2,
   "id": "52fb6c92",
   "metadata": {},
   "outputs": [
    {
     "data": {
      "text/plain": [
       "15"
      ]
     },
     "execution_count": 2,
     "metadata": {},
     "output_type": "execute_result"
    }
   ],
   "source": [
    "#2\n",
    "a=np.array([[1,4,9],[1,8,3],[1,4,6]])\n",
    "a.diagonal().sum()"
   ]
  },
  {
   "cell_type": "code",
   "execution_count": 3,
   "id": "9567c367",
   "metadata": {},
   "outputs": [
    {
     "name": "stdout",
     "output_type": "stream",
     "text": [
      "11.0\n"
     ]
    }
   ],
   "source": [
    "#2\n",
    "import numpy as np\n",
    "\n",
    "myArray = np.eye(11)\n",
    "sum = np.trace(myArray)\n",
    "print(sum)"
   ]
  },
  {
   "cell_type": "code",
   "execution_count": 6,
   "id": "3079c217",
   "metadata": {},
   "outputs": [
    {
     "name": "stdout",
     "output_type": "stream",
     "text": [
      "3\n",
      "[[1 2 3]\n",
      " [4 5 6]]\n"
     ]
    }
   ],
   "source": [
    "import numpy as np\n",
    "\n",
    "a = 0\n",
    "x = 3\n",
    "\n",
    "myArray = np.array([[1, 2, 3], [4, 5, 6]])\n",
    "emptyList = []\n",
    "length = myArray.shape[1]\n",
    "print(length)\n",
    "print(myArray)\n",
    "\n"
   ]
  },
  {
   "cell_type": "code",
   "execution_count": 13,
   "id": "9ca45018",
   "metadata": {},
   "outputs": [
    {
     "name": "stdout",
     "output_type": "stream",
     "text": [
      "1\n",
      "2\n",
      "3\n",
      "4\n",
      "5\n",
      "6\n"
     ]
    }
   ],
   "source": [
    "for i in range(myArray.shape[0]):\n",
    "    for j in range(myArray.shape[1]):\n",
    "         if i[j] > x:\n",
    "            emptyList.append(i[a])\n",
    "            \n",
    "        if a == length:\n",
    "             = 0\n",
    "\n",
    "resultArray = np.array(emptyList)\n",
    "  \n",
    "\n",
    "\n",
    "#print(resultArray)\n"
   ]
  },
  {
   "cell_type": "code",
   "execution_count": 14,
   "id": "58d7f392",
   "metadata": {},
   "outputs": [
    {
     "name": "stdout",
     "output_type": "stream",
     "text": [
      "[4 4 4]\n"
     ]
    }
   ],
   "source": [
    "import numpy as np\n",
    "\n",
    "A = np.array([1, 2, 3])\n",
    "B = np.array([3, 2, 1])\n",
    "C = np.add(A, B)\n",
    "\n",
    "print(C)"
   ]
  },
  {
   "cell_type": "code",
   "execution_count": 15,
   "id": "60aa1f6d",
   "metadata": {},
   "outputs": [
    {
     "name": "stdout",
     "output_type": "stream",
     "text": [
      "[[ 0.40493147 -0.12345539 -0.28147608]]\n"
     ]
    }
   ],
   "source": [
    "import numpy as np\n",
    "\n",
    "x = np.random.random((1, 3))\n",
    "y = x.mean()\n",
    "z = x - y\n",
    "print(z)"
   ]
  },
  {
   "cell_type": "code",
   "execution_count": null,
   "id": "2bc64a76",
   "metadata": {},
   "outputs": [],
   "source": []
  }
 ],
 "metadata": {
  "kernelspec": {
   "display_name": "Python 3",
   "language": "python",
   "name": "python3"
  },
  "language_info": {
   "codemirror_mode": {
    "name": "ipython",
    "version": 3
   },
   "file_extension": ".py",
   "mimetype": "text/x-python",
   "name": "python",
   "nbconvert_exporter": "python",
   "pygments_lexer": "ipython3",
   "version": "3.8.8"
  }
 },
 "nbformat": 4,
 "nbformat_minor": 5
}
